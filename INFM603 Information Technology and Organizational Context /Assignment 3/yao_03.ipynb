{
 "cells": [
  {
   "cell_type": "markdown",
   "metadata": {
    "id": "hjWyby4Dga9X"
   },
   "source": [
    "INFM603 - Assignment 3<br/>\n",
    "There are four questions in this assignment. Each question contributes 25 points towards a total of 100 points possible on this assignment.<br/>\n",
    "Please make a copy of this notebook, add your name to the name of the copied notebook, so that it is clear whose work the notebook contains. Once you are done coding your answers, share the notebook with:\n",
    "Pamela Duffy (pduffy@umd.edu), Vedat Diker (vdiker@umd.edu), Vijay Arni (varnis@umd.edu), and Surbhi Garg (sgarg31@umd.edu), and copy and paste the link to the notebook into the Assignment 3 submission dialog on Canvas to complete your asubmission."
   ]
  },
  {
   "cell_type": "markdown",
   "metadata": {},
   "source": [
    "https://drive.google.com/file/d/12JHaxVNARzRxOD3t4JQVDBKRaIlAHD6r/view?usp=sharing"
   ]
  },
  {
   "cell_type": "markdown",
   "metadata": {
    "id": "6j3G5v7WSdXV"
   },
   "source": [
    "---\n",
    "---\n",
    "Question 1) Complete the function `removePrices()` in the script below.<br/>\n",
    "Note that the script will not run as is because the function is incomplete.<br/>\n",
    "The purpose of the function is to remove the prices `($50, $20, $..)` from the receipt whenever they appear. <br/>\n",
    "It should return the full sentence without any prices. The expected output is as follows, (or as close to it as possible):\n",
    "\n",
    "`Book, Shoes, Pencils, Hoodie, Socks`"
   ]
  },
  {
   "cell_type": "code",
   "execution_count": 47,
   "metadata": {
    "id": "WvckwRciRn88",
    "tags": []
   },
   "outputs": [
    {
     "name": "stdout",
     "output_type": "stream",
     "text": [
      "Book, Shoes, Pencils, Hoodie, Socks \n"
     ]
    }
   ],
   "source": [
    "# define receipt\n",
    "receipt = \"Book $15, Shoes $50, Pencils $5, Hoodie $15, Socks $5\"\n",
    "\n",
    "# define incomplete function that needs to be completed\n",
    "def removePrices(string):\n",
    "    for s in string:\n",
    "        if s.isdigit() or s == \"$\":\n",
    "            string = string.replace(s, \"\")\n",
    "        string = string.replace(\" ,\", \",\")\n",
    "    return string\n",
    "cleanReceipt = removePrices(receipt)\n",
    "print(cleanReceipt)\n"
   ]
  },
  {
   "cell_type": "markdown",
   "metadata": {
    "id": "f-r8l_SzSbwi"
   },
   "source": [
    "---\n",
    "---\n",
    "Question 2) Complete the function `missingNum()` in the script below.<br/>\n",
    "Note that the script will not run as is because the function is incomplete.<br/>\n",
    "The purpose of the function is to replace all instances of zero in the list with the word `'missing'`.<br/>\n",
    "The function should take the list and return the list once it has been changed.<br/>\n",
    "Changing the list may require a `for` loop and `if` statements.\n",
    "```\n",
    "Original nums: [4, 7, 0, 10, 32, 0, 51, 0, 89, 100]\n",
    "Replaced nums: [4, 7, 'missing', 10, 32, 'missing', 51, 'missing', 89, 100]\n",
    "```"
   ]
  },
  {
   "cell_type": "code",
   "execution_count": 54,
   "metadata": {
    "id": "q3wOyArMSbcu",
    "tags": []
   },
   "outputs": [
    {
     "name": "stdout",
     "output_type": "stream",
     "text": [
      "Original nums:  [4, 7, 0, 10, 32, 0, 51, 0, 89, 100]\n",
      "Replaced nums:  [4, 7, 'missing', 10, 32, 'missing', 51, 'missing', 89, 100]\n"
     ]
    }
   ],
   "source": [
    "# define list of nums\n",
    "allNums = [4, 7, 0, 10, 32, 0, 51, 0, 89, 100]\n",
    "\n",
    "# def function that replaces zeros with 'missing'\n",
    "def missingNum(ls):\n",
    "    for i in range(len(ls)):\n",
    "        if ls[i] == 0:\n",
    "            ls[i] = \"missing\"\n",
    "    return ls\n",
    "print(\"Original nums: \", allNums)\n",
    "updatedList = missingNum(allNums)\n",
    "print(\"Replaced nums: \", updatedList)\n"
   ]
  },
  {
   "cell_type": "markdown",
   "metadata": {
    "id": "meyONRV4WBDt"
   },
   "source": [
    "---\n",
    "---\n",
    "Question 3) Complete the function `whatToRev()` in the script below.<br/>\n",
    "Note that the script will not run as is because the function is incomplete.<br/>\n",
    "The purpose of the function is to determine what topics a student should review before an exam, based on their assignment scores on topics covered in a Python course. If their score on any assignment on a topic is less than 8, they should add the topic of that assignment to their list of topics to review.<br/>\n",
    "When the function is called, (by passing it a dictionary of topics and scores for a given student), the function should return the list of topics for the student to review.<br/>\n",
    "The template below defines two sample dictionaries of assignment topics and their associated scores; each dictionary corresponds to a separate student.<br/>\n",
    "The function should be dynamic and able to return the list of the topics to review for any dictionary passed to it!<br/>\n",
    "You may find yourself using loops and conditionals, and appending to lists!<br/>\n",
    "The expected output for the sample dictionaries is:\n",
    "```\n",
    "Vedat should review:  ['Conditional', 'Lists', '2D Lists']\n",
    "Pamela should review:  ['Lists', 'Dictionaries']\n",
    "```\n",
    "\n",
    "\n",
    "\n"
   ]
  },
  {
   "cell_type": "code",
   "execution_count": 1,
   "metadata": {
    "id": "rWJDnK6RWf6R"
   },
   "outputs": [
    {
     "name": "stdout",
     "output_type": "stream",
     "text": [
      "Vedat should review:  ['Conditionals', 'Lists', '2D Lists']\n",
      "Pamela should review:  ['Lists', 'Dictionaries']\n"
     ]
    }
   ],
   "source": [
    "# define dict of assignment scores\n",
    "VedatAssignments = {\"Conditionals\":7, \"Functions\":9, \"Loops\":8, \"Lists\":5, \"Dictionaries\": 9, \"2D Lists\": 6}\n",
    "PamelaAssignments = {\"Conditionals\":10, \"Functions\":9, \"Loops\":8, \"Lists\":7, \"Dictionaries\": 7, \"2D Lists\": 8}\n",
    "\n",
    "def whatToRev(dictionary):\n",
    "    for key, value in dictionary.copy().items():\n",
    "        if value >= 8:\n",
    "           dictionary.pop(key)\n",
    "    return list(dictionary.keys())\n",
    "\n",
    "VedatRev = whatToRev(VedatAssignments)\n",
    "PamelaRev = whatToRev(PamelaAssignments)\n",
    "\n",
    "print(\"Vedat should review: \",VedatRev)\n",
    "print(\"Pamela should review: \",PamelaRev)"
   ]
  },
  {
   "cell_type": "markdown",
   "metadata": {
    "id": "IXMt4SmWYcya"
   },
   "source": [
    "---\n",
    "---\n",
    "Question 4) The chart above list courses and instructors who teach them.<br/>\n",
    "This course chart is stored in a 2-dimensional list. The \"outer\" list is the instructors (rows) and the \"inner\" list is the various courses the given instructor teaches (columns).<br/>\n",
    "Complete the function `whoTeaches()` in the script below. Note that the script will not run as is because the function is incomplete.<br/>\n",
    "The purpose of the function is to determine the instructors that teach a given course. The function takes the chosen course and the course chart. The function then returns a list instructors who teach that course.<br/>\n",
    "Note that the function should work for ANY 2D list of instructors and courses and ANY chosen course (aka a dynamic function!). You may find yourself using nested loops and conditionals, and appending to lists!<br/>\n",
    "The expected output is as follows.\n",
    "```\n",
    "The course  INST126 is taught by  ['Duffy', 'Ciampaglia']\n",
    "The course  INST314 is taught by  ['Diker', 'Kemper', 'Jackson']\n",
    "```\n",
    "\n",
    "\n",
    "\n"
   ]
  },
  {
   "cell_type": "code",
   "execution_count": 56,
   "metadata": {
    "id": "ZPhRYk1oZP6Z",
    "tags": []
   },
   "outputs": [
    {
     "name": "stdout",
     "output_type": "stream",
     "text": [
      "The course  INST126  is taught by  ['Duffy', 'Ciampaglia']\n",
      "The course  INST314  is taught by  ['Diker', 'Kemper', 'Jackson']\n"
     ]
    }
   ],
   "source": [
    "# define courses to check\n",
    "course1 = \"INST126\"\n",
    "course2 = \"INST314\"\n",
    "# define 2d list\n",
    "courseChart = [['INST126', 'INST327', 'INST123'], \\\n",
    "              ['INST327', 'INST123', 'INST314'], \\\n",
    "              ['INST126'], \\\n",
    "              ['INST314'], \\\n",
    "              ['INST314', 'INST414'], \\\n",
    "              ['INST327']]\n",
    "\n",
    "instructorNames = ['Duffy', 'Diker', 'Ciampaglia', 'Kemper', 'Jackson', 'Shah']\n",
    "\n",
    "def whoTeaches(course, course_all):\n",
    "    instructor_list = list()\n",
    "    for item in course_all:\n",
    "        if course in item:\n",
    "            instructor_list.append(instructorNames[course_all.index(item)])\n",
    "    return instructor_list\n",
    "\n",
    "print(\"The course \",course1,\" is taught by \",whoTeaches(course1, courseChart))\n",
    "print(\"The course \",course2,\" is taught by \",whoTeaches(course2, courseChart))"
   ]
  }
 ],
 "metadata": {
  "colab": {
   "provenance": []
  },
  "kernelspec": {
   "display_name": "Python 3 (ipykernel)",
   "language": "python",
   "name": "python3"
  },
  "language_info": {
   "codemirror_mode": {
    "name": "ipython",
    "version": 3
   },
   "file_extension": ".py",
   "mimetype": "text/x-python",
   "name": "python",
   "nbconvert_exporter": "python",
   "pygments_lexer": "ipython3",
   "version": "3.11.5"
  }
 },
 "nbformat": 4,
 "nbformat_minor": 4
}
